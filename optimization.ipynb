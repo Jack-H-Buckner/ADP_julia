{
 "cells": [
  {
   "cell_type": "markdown",
   "id": "f8d03a5f-c74a-43da-b2fc-3e7303d29e1f",
   "metadata": {},
   "source": [
    "# Optimization\n",
    "\n",
    "Tests to determine memory allocation and performance of varaious functions, looks for bottle necks. \n",
    "\n",
    "## Quadrature\n",
    "\n",
    "### Updating quadrature scheme"
   ]
  },
  {
   "cell_type": "code",
   "execution_count": 139,
   "id": "0a432929-7ced-47c8-978d-332051fd3d05",
   "metadata": {},
   "outputs": [
    {
     "name": "stdout",
     "output_type": "stream",
     "text": [
      "  0.000226 seconds (1.76 k allocations: 157.500 KiB)\n"
     ]
    },
    {
     "name": "stderr",
     "output_type": "stream",
     "text": [
      "WARNING: replacing module MvGaussHermite.\n"
     ]
    }
   ],
   "source": [
    "## initialize quadrature\n",
    "include(\"MvGaussHermite.jl\")\n",
    "m = 5\n",
    "Quad = MvGaussHermite.init_mutable(m,[0.0,0.0],[1.0 0; 0 1.0],10^-4)\n",
    "\n",
    "# test updating \n",
    "MvGaussHermite.update_old!(Quad, [1.0,0.0],[1.0 0.5; 0.5 1.0])\n",
    "@time for i in 1:10 MvGaussHermite.update_old!(Quad, [1.0,0.0],[1.0 0.5; 0.5 1.0]) end\n"
   ]
  },
  {
   "cell_type": "code",
   "execution_count": 140,
   "id": "e07a4783-f5e4-4a4b-809e-bdbebecbc127",
   "metadata": {},
   "outputs": [
    {
     "name": "stdout",
     "output_type": "stream",
     "text": [
      "  0.000238 seconds (1.22 k allocations: 118.594 KiB)\n"
     ]
    }
   ],
   "source": [
    "Quad = MvGaussHermite.init_mutable(m,[0.0,0.0],[1.0 0; 0 1.0],10^-4)\n",
    "MvGaussHermite.update!(Quad, [1.0,0.0],[1.0 0.5; 0.5 1.0])\n",
    "@time for i in 1:10 MvGaussHermite.update!(Quad, [1.0,0.0],[1.0 0.5; 0.5 1.0])end\n"
   ]
  },
  {
   "cell_type": "markdown",
   "id": "5337c783-98d1-49bc-b5ae-af625d2259e4",
   "metadata": {},
   "source": [
    "### Evaluating quadrature"
   ]
  },
  {
   "cell_type": "code",
   "execution_count": 155,
   "id": "d28101ed-be17-4bcd-956f-e248fc0aa8e7",
   "metadata": {},
   "outputs": [
    {
     "name": "stdout",
     "output_type": "stream",
     "text": [
      "  0.000034 seconds (16 allocations: 1.938 KiB)\n"
     ]
    },
    {
     "name": "stderr",
     "output_type": "stream",
     "text": [
      "WARNING: replacing module MvGaussHermite.\n"
     ]
    },
    {
     "data": {
      "text/plain": [
       "1.6263032587282567e-18"
      ]
     },
     "execution_count": 155,
     "metadata": {},
     "output_type": "execute_result"
    }
   ],
   "source": [
    "include(\"MvGaussHermite.jl\")\n",
    "m = 10\n",
    "f  = x -> sin(x[1]*x[2])\n",
    "Quad = MvGaussHermite.init_mutable(m,[0.0,0.0],[1.0 0; 0 1.0],10^-4)\n",
    "MvGaussHermite.expected_value(f, Quad)\n",
    "@time MvGaussHermite.expected_value(f, Quad)"
   ]
  },
  {
   "cell_type": "markdown",
   "id": "4a7ad591-72c3-4c66-ace4-0f070bc41d31",
   "metadata": {},
   "source": [
    "## Updating beleif states\n"
   ]
  },
  {
   "cell_type": "code",
   "execution_count": 16,
   "id": "0fae7915-9705-462f-9cba-d1e59d247a65",
   "metadata": {},
   "outputs": [
    {
     "name": "stdout",
     "output_type": "stream",
     "text": [
      " "
     ]
    },
    {
     "name": "stderr",
     "output_type": "stream",
     "text": [
      "WARNING: replacing module MvGaussHermite.\n",
      "WARNING: replacing module BellmanOpperators.\n",
      "WARNING: replacing module Examples.\n"
     ]
    }
   ],
   "source": [
    "include(\"MvGaussHermite.jl\")\n",
    "include(\"BellmanOpperators.jl\")\n",
    "include(\"Examples.jl\")\n",
    "# set example functions for test s\n",
    "pars = Examples.unknown_growth_rate_pars\n",
    "\n",
    "T_! = (x,f) -> Examples.unknown_growth_rate_T!(x,f,pars)\n",
    "T_ = (x,f) -> Examples.unknown_growth_rate_T(x,f,pars)\n",
    "R = (x,f,obs) -> Examples.unknown_growth_rate_R(x,f,obs,pars)\n",
    "R_obs = (x,f) -> Examples.unknown_growth_rate_R_obs(x,f,pars)\n",
    "Sigma_N = Examples.Sigma_N\n",
    "H = (x,a,obs) -> Examples.H * x\n",
    "Sigma_O = (a,obs) -> reshape(Examples.Sigma_O(obs),1,1)\n",
    "delta = 0.95\n",
    "actions = Examples.unknown_growth_actions\n",
    "observations = Examples.unknown_growth_observations\n",
    "\n",
    "x_hat = [0.0,0.0]\n",
    "x_cov = [1.0 0; 0 1.0]\n",
    "\n",
    "m = 6\n",
    "f  = x -> sin(x[1]*x[2])\n",
    "Quad = MvGaussHermite.init_mutable(m,[0.0,0.0],[1.0 0; 0 1.0],10^-4)\n",
    "\n",
    "print(\" \")"
   ]
  },
  {
   "cell_type": "markdown",
   "id": "28a6d065-f796-457e-a338-3b1f58670a24",
   "metadata": {},
   "source": [
    "### Test observaiton model update\n",
    "The take away here is to use a linear observaiton model where ever possible. "
   ]
  },
  {
   "cell_type": "code",
   "execution_count": 44,
   "id": "c55b1cc7-68c2-40a1-b374-c4b5c639aedb",
   "metadata": {},
   "outputs": [
    {
     "name": "stdout",
     "output_type": "stream",
     "text": [
      "  0.000090 seconds (453 allocations: 42.781 KiB)\n",
      "  0.000040 seconds (145 allocations: 13.922 KiB)\n"
     ]
    },
    {
     "data": {
      "text/plain": [
       "2×2 Matrix{Float64}:\n",
       " 1.0  0.0\n",
       " 0.0  1.0"
      ]
     },
     "execution_count": 44,
     "metadata": {},
     "output_type": "execute_result"
    }
   ],
   "source": [
    "H = x -> Examples.H * x\n",
    "BellmanOpperators.propogate_observation_model(x_hat,x_cov,H,Quad)\n",
    "MvGaussHermite.update!(Quad, x_hat, x_cov)\n",
    "@time BellmanOpperators.propogate_observation_model(x_hat,x_cov,H,Quad)\n",
    "@time MvGaussHermite.update!(Quad, x_hat, x_cov)"
   ]
  },
  {
   "cell_type": "code",
   "execution_count": 45,
   "id": "27848a96-0e0f-4470-9734-0ce3cb8fa538",
   "metadata": {},
   "outputs": [
    {
     "name": "stdout",
     "output_type": "stream",
     "text": [
      "  0.000011 seconds (4 allocations: 320 bytes)\n"
     ]
    },
    {
     "data": {
      "text/plain": [
       "([0.0], [1.0])"
      ]
     },
     "execution_count": 45,
     "metadata": {},
     "output_type": "execute_result"
    }
   ],
   "source": [
    "H = Examples.H \n",
    "BellmanOpperators.propogate_observation_model(x_hat,x_cov,H)\n",
    "@time BellmanOpperators.propogate_observation_model(x_hat,x_cov,H)"
   ]
  },
  {
   "cell_type": "markdown",
   "id": "0885246b-92d1-44d9-a75b-e9343ab2ad56",
   "metadata": {},
   "source": [
    "### Test bellman opperator for bottle necks \n",
    " The bottle neck is very clearly evaluating the value function"
   ]
  },
  {
   "cell_type": "code",
   "execution_count": 72,
   "id": "b8832699-e247-4c8f-b50e-d86f95d9c6ef",
   "metadata": {},
   "outputs": [
    {
     "name": "stdout",
     "output_type": "stream",
     "text": [
      " "
     ]
    },
    {
     "name": "stderr",
     "output_type": "stream",
     "text": [
      "WARNING: replacing module MvGaussHermite.\n",
      "WARNING: replacing module BellmanOpperators.\n",
      "WARNING: replacing module POMDPs.\n"
     ]
    }
   ],
   "source": [
    "include(\"MvGaussHermite.jl\")\n",
    "include(\"BellmanOpperators.jl\")\n",
    "include(\"POMDPs.jl\")\n",
    "# initianize POMDP object\n",
    "pars = Examples.unknown_growth_rate_pars\n",
    "T_! = (x,f) -> Examples.unknown_growth_rate_T!(x,f,pars)\n",
    "T_ = (x,f) -> Examples.unknown_growth_rate_T(x,f,pars)\n",
    "R = (x,f,obs) -> 0.5*exp(x[1]+f[1]) - 1/obs[1]\n",
    "R_obs = (x,f) -> Examples.unknown_growth_rate_R_obs(x,f,pars)\n",
    "Sigma_N = Examples.Sigma_N\n",
    "H = (x,a,obs) -> Examples.H * x\n",
    "Sigma_O = (a,obs) -> reshape(Examples.Sigma_O(obs),1,1)\n",
    "delta = 0.95\n",
    "unknownGrowthRate = POMDPs.init(T_!,T_,R,R_obs,H,Sigma_N,Sigma_O,delta, [[0.05],[0.1],[0.15]], [[0.05],[1.0]])\n",
    "\n",
    "\n",
    "# state \n",
    "act = [0.15]\n",
    "obs = [1.0]\n",
    "\n",
    "# value function \n",
    "function test1!(mu)\n",
    "    return 0.1*mu[2] * mu[1]^2\n",
    "end \n",
    "\n",
    "\n",
    "function test2!(mu, cov)\n",
    "    v = test1!(mu)\n",
    "    return v - 0.1*cov[1,1] -0.1*cov[2,2] + 0.05*cov[2,1] +0.75*cov[1,1]*mu[1]\n",
    "end \n",
    "\n",
    "m1 = 20\n",
    "m2 = 7\n",
    "Vf = ValueFunctions.init_adjGausianBeleifsInterp(m1, m2, [-5.0,-5.0],[5.0,5.0])\n",
    "\n",
    "v1 = 1.0*zeros(m1^2)\n",
    "v2 = 1.0*zeros(m2^5)\n",
    "v_mu = broadcast(i->test1!(Vf.baseValue.grid[i]), 1:m1^2)\n",
    "v_dsn = broadcast(i->test2!(Vf.uncertantyAdjustment.nodes[i][1],Vf.uncertantyAdjustment.nodes[i][2]), 1:m2^5)\n",
    "\n",
    "ValueFunctions.update_base!(Vf,v_mu)\n",
    "ValueFunctions.update_adjustment!(Vf, v_dsn)\n",
    "\n",
    "V = (x,a) -> p(x)\n",
    "x_hat = [0.4, 0.0]\n",
    "x_cov = [0.2 0.0; 0.0 0.1]\n",
    "s = (x_hat,x_cov)\n",
    "\n",
    "\n",
    "data = BellmanOpperators.init_bellmanIntermidiate(2, 1, 5, 5)\n",
    "print(\" \")"
   ]
  },
  {
   "cell_type": "code",
   "execution_count": 70,
   "id": "7e1ac118-f4ad-4fd0-956d-05a862d6c658",
   "metadata": {},
   "outputs": [
    {
     "name": "stdout",
     "output_type": "stream",
     "text": [
      "  0.000248 seconds (781 allocations: 68.203 KiB)\n"
     ]
    },
    {
     "data": {
      "text/plain": [
       "0"
      ]
     },
     "execution_count": 70,
     "metadata": {},
     "output_type": "execute_result"
    }
   ],
   "source": [
    "function f1(s, a, obs, data, POMDP, V)\n",
    "    data.x_hat, data.x_cov = s\n",
    "    tu = KalmanFilters.time_update(data.x_hat, data.x_cov, x ->POMDP.T(x,a),  POMDP.Sigma_N)\n",
    "    data.x_hat, data.x_cov = KalmanFilters.get_state(tu), KalmanFilters.get_covariance(tu)\n",
    "    \n",
    "    #observaton quadrature nodes \n",
    "    H = x -> POMDP.H(x,a,obs) # define measurment function # allocation? \n",
    "    data.y_hat, data.y_cov = BellmanOpperators.propogate_observation_model(data.x_hat,data.x_cov,H,data.Quad_x) # allocation \n",
    "    data.y_cov .+= POMDP.Sigma_O(a,obs)\n",
    "    MvGaussHermite.update!(data.Quad_y,data.y_hat,data.y_cov)\n",
    "    data.new_states_mat = broadcast(y -> BellmanOpperators.new_state(y, data.x_hat,data.x_cov, H, POMDP.Sigma_O(a,obs)), data.Quad_y.nodes)\n",
    "    return 0\n",
    "end \n",
    "\n",
    "f1(s,act,obs, data, unknownGrowthRate, V)\n",
    "@time f1(s,act,obs, data, unknownGrowthRate, V)"
   ]
  },
  {
   "cell_type": "code",
   "execution_count": 73,
   "id": "2c0d8f01-a687-45c9-8ad8-7b93806de124",
   "metadata": {},
   "outputs": [
    {
     "name": "stdout",
     "output_type": "stream",
     "text": [
      "  0.000712 seconds (8.00 k allocations: 480.609 KiB)\n"
     ]
    },
    {
     "data": {
      "text/plain": [
       "0"
      ]
     },
     "execution_count": 73,
     "metadata": {},
     "output_type": "execute_result"
    }
   ],
   "source": [
    "function f2(s, a, obs, data, POMDP, V)\n",
    "    data.x_hat, data.x_cov = s\n",
    "    tu = KalmanFilters.time_update(data.x_hat, data.x_cov, x ->POMDP.T(x,a),  POMDP.Sigma_N)\n",
    "    data.x_hat, data.x_cov = KalmanFilters.get_state(tu), KalmanFilters.get_covariance(tu)\n",
    "    \n",
    "    #observaton quadrature nodes \n",
    "    H = x -> POMDP.H(x,a,obs) # define measurment function # allocation? \n",
    "    data.y_hat, data.y_cov = BellmanOpperators.propogate_observation_model(data.x_hat,data.x_cov,H,data.Quad_x) # allocation \n",
    "    data.y_cov .+= POMDP.Sigma_O(a,obs)\n",
    "    MvGaussHermite.update!(data.Quad_y,data.y_hat,data.y_cov)\n",
    "    data.new_states_mat = broadcast(y -> BellmanOpperators.new_state(y, data.x_hat,data.x_cov, H, POMDP.Sigma_O(a,obs)), data.Quad_y.nodes)\n",
    "    data.vals = broadcast(x -> V(data.z,x), data.new_states_mat)\n",
    "    sum(data.vals .* data.Quad_y.weights)\n",
    "    return 0\n",
    "end \n",
    "\n",
    "f2(s,act,obs, data, unknownGrowthRate, V)\n",
    "@time f2(s,act,obs, data, unknownGrowthRate, V)\n",
    "    "
   ]
  },
  {
   "cell_type": "markdown",
   "id": "ed3230ad-4b84-4ad6-b15f-0819120e4a2a",
   "metadata": {},
   "source": [
    "### Test Value functions"
   ]
  },
  {
   "cell_type": "code",
   "execution_count": 68,
   "id": "b28bcaf5-7164-47bd-a36d-bf8899ae6e7e",
   "metadata": {},
   "outputs": [
    {
     "name": "stderr",
     "output_type": "stream",
     "text": [
      "WARNING: replacing module ValueFunctions.\n"
     ]
    },
    {
     "data": {
      "text/plain": [
       "Main.ValueFunctions"
      ]
     },
     "execution_count": 68,
     "metadata": {},
     "output_type": "execute_result"
    }
   ],
   "source": [
    "include(\"ValueFunctions.jl\")"
   ]
  },
  {
   "cell_type": "code",
   "execution_count": 85,
   "id": "6fb5adc8-ce75-4628-9810-7afdc826e31b",
   "metadata": {},
   "outputs": [
    {
     "name": "stdout",
     "output_type": "stream",
     "text": [
      "  0.000066 seconds (248 allocations: 11.875 KiB)\n",
      "  0.000114 seconds (1.44 k allocations: 82.000 KiB)\n"
     ]
    },
    {
     "data": {
      "text/plain": [
       "-0.19976206848347985"
      ]
     },
     "execution_count": 85,
     "metadata": {},
     "output_type": "execute_result"
    }
   ],
   "source": [
    "# value function \n",
    "function test1!(mu)\n",
    "    return 0.1*mu[2] * mu[1]^2\n",
    "end \n",
    "\n",
    "\n",
    "function test2!(mu, cov)\n",
    "    v = test1!(mu)\n",
    "    return v - 0.1*cov[1,1] -0.1*cov[2,2] + 0.05*cov[2,1] +0.75*cov[1,1]*mu[1]\n",
    "end \n",
    "\n",
    "m1 = 10\n",
    "m2 = 6\n",
    "Vf = ValueFunctions.init_adjGausianBeleifsInterp(m1, m2, [-5.0,-5.0],[5.0,5.0])\n",
    "\n",
    "v1 = 1.0*zeros(m1^2)\n",
    "v2 = 1.0*zeros(m2^5)\n",
    "v_mu = broadcast(i->test1!(Vf.baseValue.grid[i]), 1:m1^2)\n",
    "v_dsn = broadcast(i->test2!(Vf.uncertantyAdjustment.nodes[i][1],Vf.uncertantyAdjustment.nodes[i][2]), 1:m2^5)\n",
    "\n",
    "ValueFunctions.update_base!(Vf,v_mu)\n",
    "ValueFunctions.update_adjustment!(Vf, v_dsn)\n",
    "\n",
    "z = 1.0*zeros(5)\n",
    "x = ([0.0,0.0],[1.0 0; 0 1.0])\n",
    "Vf.baseValue(x[1])\n",
    "@time Vf.baseValue(x[1])\n",
    "\n",
    "Vf.uncertantyAdjustment(z,x)\n",
    "@time Vf.uncertantyAdjustment(z,x)"
   ]
  },
  {
   "cell_type": "markdown",
   "id": "541c8319-eb68-4017-96d4-dd326ba3c725",
   "metadata": {},
   "source": [
    "### Evaluating the uncertiaty adjustment in the value function is the primary bottle neck in the bellman opperator\n",
    "\n",
    "Two steps to optimize this process: \n",
    "1. Optimize evaluation of chebyshev polynomials in ValueFunctions.jl\n",
    "2. Down sample the value function i.e use a low order aproximation if it apears to be apropreate.   "
   ]
  },
  {
   "cell_type": "code",
   "execution_count": 133,
   "id": "7b6322e9-fa59-4637-870b-291c98073531",
   "metadata": {},
   "outputs": [
    {
     "name": "stdout",
     "output_type": "stream",
     "text": [
      "  0.000682 seconds (20.14 k allocations: 799.438 KiB)\n"
     ]
    },
    {
     "name": "stderr",
     "output_type": "stream",
     "text": [
      "WARNING: replacing module ValueFunctions.\n"
     ]
    },
    {
     "data": {
      "text/plain": [
       "3.228315458645783e-16"
      ]
     },
     "execution_count": 133,
     "metadata": {},
     "output_type": "execute_result"
    }
   ],
   "source": [
    "include(\"ValueFunctions.jl\")\n",
    "a = [-1.0,-1.]\n",
    "b = [1.0,1.]\n",
    "m = 100\n",
    "p = ValueFunctions.init_interpolation(a,b,m)\n",
    "x = [0.0,0.0]\n",
    "# value function \n",
    "function test1!(mu)\n",
    "    return 0.1*mu[2] * mu[1]^2\n",
    "end \n",
    "\n",
    "v_mu = broadcast(i->test1!(p.grid[i]), 1:length(p.grid))\n",
    "\n",
    "ValueFunctions.update_interpolation!(p,reshape(v_mu,p.m,p.m))\n",
    "p(x)\n",
    "@time p(x)\n"
   ]
  },
  {
   "cell_type": "code",
   "execution_count": 134,
   "id": "e7602b23-e1f0-48d1-8f1a-35e6deb6826c",
   "metadata": {},
   "outputs": [
    {
     "name": "stdout",
     "output_type": "stream",
     "text": [
      "  0.000008 seconds (2 allocations: 112 bytes)\n"
     ]
    },
    {
     "name": "stderr",
     "output_type": "stream",
     "text": [
      "WARNING: replacing module utils.\n"
     ]
    },
    {
     "data": {
      "text/plain": [
       "6.123233995736766e-17"
      ]
     },
     "execution_count": 134,
     "metadata": {},
     "output_type": "execute_result"
    }
   ],
   "source": [
    "include(\"utils.jl\")\n",
    "utils.T_alpha_i(p.alpha[1],x)\n",
    "@time utils.T_alpha_i(p.alpha[5000],x)"
   ]
  },
  {
   "cell_type": "code",
   "execution_count": 135,
   "id": "c8bb9e1f-a6be-4390-93b6-a79ae8c2689a",
   "metadata": {},
   "outputs": [
    {
     "name": "stdout",
     "output_type": "stream",
     "text": [
      "  0.000629 seconds (20.12 k allocations: 798.312 KiB)\n"
     ]
    },
    {
     "data": {
      "text/plain": [
       "3.228315458645783e-16"
      ]
     },
     "execution_count": 135,
     "metadata": {},
     "output_type": "execute_result"
    }
   ],
   "source": [
    "utils.T_alpha(x,p.alpha, p.coeficents)\n",
    "@time utils.T_alpha(x,p.alpha, p.coeficents)"
   ]
  },
  {
   "cell_type": "code",
   "execution_count": 152,
   "id": "0a57a603-daeb-4f6b-b797-f852d7040d7b",
   "metadata": {},
   "outputs": [
    {
     "name": "stdout",
     "output_type": "stream",
     "text": [
      "  0.000010 seconds (1 allocation: 96 bytes)\n"
     ]
    },
    {
     "name": "stderr",
     "output_type": "stream",
     "text": [
      "WARNING: replacing module utils.\n"
     ]
    },
    {
     "data": {
      "text/plain": [
       "1-element Vector{Float64}:\n",
       " 5.51091059616309e-16"
      ]
     },
     "execution_count": 152,
     "metadata": {},
     "output_type": "execute_result"
    }
   ],
   "source": [
    "include(\"utils.jl\")\n",
    "v = [0.0]\n",
    "utils.T_alpha_i!(v,p.alpha[10],x)\n",
    "@time utils.T_alpha_i!(v,p.alpha[10],x)"
   ]
  },
  {
   "cell_type": "code",
   "execution_count": 155,
   "id": "68525544-2a32-46ef-a933-2303f63f55bd",
   "metadata": {},
   "outputs": [
    {
     "name": "stdout",
     "output_type": "stream",
     "text": [
      "  0.000855 seconds (15.45 k allocations: 1.454 MiB)\n"
     ]
    },
    {
     "data": {
      "text/plain": [
       "1-element Vector{Float64}:\n",
       " 3.2283154586457827e-16"
      ]
     },
     "execution_count": 155,
     "metadata": {},
     "output_type": "execute_result"
    }
   ],
   "source": [
    "v = broadcast(i ->[0.0], 1:length(p.alpha))\n",
    "utils.T_alpha!(v,x,p.alpha, p.coeficents)\n",
    "@time utils.T_alpha!(v,x,p.alpha, p.coeficents)"
   ]
  },
  {
   "cell_type": "code",
   "execution_count": 162,
   "id": "98eb6e2d-1e71-4973-9ae3-8669747fcb30",
   "metadata": {},
   "outputs": [
    {
     "name": "stdout",
     "output_type": "stream",
     "text": [
      "  0.000984 seconds (19.58 k allocations: 788.922 KiB)\n"
     ]
    }
   ],
   "source": [
    "v = broadcast(i ->[0.0], 1:length(p.alpha))\n",
    "g1(x) = for i in 1:1:length(p.alpha) utils.T_alpha_i!(v[i],p.alpha[i],x)end\n",
    "g1(x)\n",
    "@time g1(x)"
   ]
  },
  {
   "cell_type": "code",
   "execution_count": 163,
   "id": "f96dc720-9c25-403e-85f3-e1bde61d56cd",
   "metadata": {},
   "outputs": [
    {
     "name": "stdout",
     "output_type": "stream",
     "text": [
      "  0.000588 seconds (13.95 k allocations: 259.000 KiB)\n"
     ]
    },
    {
     "data": {
      "text/plain": [
       "5151-element Vector{Vector{Float64}}:\n",
       " [1.0]\n",
       " [1.0]\n",
       " [1.0]\n",
       " [1.0]\n",
       " [1.0]\n",
       " [1.0]\n",
       " [1.0]\n",
       " [1.0]\n",
       " [1.0]\n",
       " [1.0]\n",
       " [1.0]\n",
       " [1.0]\n",
       " [1.0]\n",
       " ⋮\n",
       " [1.0]\n",
       " [1.0]\n",
       " [1.0]\n",
       " [1.0]\n",
       " [1.0]\n",
       " [1.0]\n",
       " [1.0]\n",
       " [1.0]\n",
       " [1.0]\n",
       " [1.0]\n",
       " [1.0]\n",
       " [1.0]"
      ]
     },
     "execution_count": 163,
     "metadata": {},
     "output_type": "execute_result"
    }
   ],
   "source": [
    "\n",
    "g2(x) = broadcast(i -> utils.T_alpha_i!(v[i],p.alpha[i],x), 1:length(p.alpha))\n",
    "g2(1)\n",
    "@time g2(1)\n"
   ]
  },
  {
   "cell_type": "code",
   "execution_count": null,
   "id": "0d611d5c-585f-495e-94c8-6c8d406714c2",
   "metadata": {},
   "outputs": [],
   "source": [
    "# the nth degree chebyshev polynomial\n",
    "# evaluated at x\n",
    "function T!(x,alpha)\n",
    "    prod(cos.(alpha_i.*acos.(x))\n",
    "end \n",
    "\n",
    "T1"
   ]
  }
 ],
 "metadata": {
  "kernelspec": {
   "display_name": "Julia 1.6.2",
   "language": "julia",
   "name": "julia-1.6"
  },
  "language_info": {
   "file_extension": ".jl",
   "mimetype": "application/julia",
   "name": "julia",
   "version": "1.6.2"
  }
 },
 "nbformat": 4,
 "nbformat_minor": 5
}
