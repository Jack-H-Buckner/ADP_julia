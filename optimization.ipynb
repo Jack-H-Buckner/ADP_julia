{
 "cells": [
  {
   "cell_type": "markdown",
   "id": "f8d03a5f-c74a-43da-b2fc-3e7303d29e1f",
   "metadata": {},
   "source": [
    "# Optimization\n",
    "\n",
    "Tests to determine memory allocation and performance of varaious functions, looks for bottle necks. \n",
    "\n",
    "## Quadrature\n",
    "\n",
    "### Updating quadrature scheme"
   ]
  },
  {
   "cell_type": "code",
   "execution_count": 139,
   "id": "0a432929-7ced-47c8-978d-332051fd3d05",
   "metadata": {},
   "outputs": [
    {
     "name": "stdout",
     "output_type": "stream",
     "text": [
      "  0.000226 seconds (1.76 k allocations: 157.500 KiB)\n"
     ]
    },
    {
     "name": "stderr",
     "output_type": "stream",
     "text": [
      "WARNING: replacing module MvGaussHermite.\n"
     ]
    }
   ],
   "source": [
    "## initialize quadrature\n",
    "include(\"MvGaussHermite.jl\")\n",
    "m = 5\n",
    "Quad = MvGaussHermite.init_mutable(m,[0.0,0.0],[1.0 0; 0 1.0],10^-4)\n",
    "\n",
    "# test updating \n",
    "MvGaussHermite.update_old!(Quad, [1.0,0.0],[1.0 0.5; 0.5 1.0])\n",
    "@time for i in 1:10 MvGaussHermite.update_old!(Quad, [1.0,0.0],[1.0 0.5; 0.5 1.0]) end\n"
   ]
  },
  {
   "cell_type": "code",
   "execution_count": 140,
   "id": "e07a4783-f5e4-4a4b-809e-bdbebecbc127",
   "metadata": {},
   "outputs": [
    {
     "name": "stdout",
     "output_type": "stream",
     "text": [
      "  0.000238 seconds (1.22 k allocations: 118.594 KiB)\n"
     ]
    }
   ],
   "source": [
    "Quad = MvGaussHermite.init_mutable(m,[0.0,0.0],[1.0 0; 0 1.0],10^-4)\n",
    "MvGaussHermite.update!(Quad, [1.0,0.0],[1.0 0.5; 0.5 1.0])\n",
    "@time for i in 1:10 MvGaussHermite.update!(Quad, [1.0,0.0],[1.0 0.5; 0.5 1.0])end\n"
   ]
  },
  {
   "cell_type": "markdown",
   "id": "5337c783-98d1-49bc-b5ae-af625d2259e4",
   "metadata": {},
   "source": [
    "### Evaluating quadrature"
   ]
  },
  {
   "cell_type": "code",
   "execution_count": 155,
   "id": "d28101ed-be17-4bcd-956f-e248fc0aa8e7",
   "metadata": {},
   "outputs": [
    {
     "name": "stdout",
     "output_type": "stream",
     "text": [
      "  0.000034 seconds (16 allocations: 1.938 KiB)\n"
     ]
    },
    {
     "name": "stderr",
     "output_type": "stream",
     "text": [
      "WARNING: replacing module MvGaussHermite.\n"
     ]
    },
    {
     "data": {
      "text/plain": [
       "1.6263032587282567e-18"
      ]
     },
     "execution_count": 155,
     "metadata": {},
     "output_type": "execute_result"
    }
   ],
   "source": [
    "include(\"MvGaussHermite.jl\")\n",
    "m = 10\n",
    "f  = x -> sin(x[1]*x[2])\n",
    "Quad = MvGaussHermite.init_mutable(m,[0.0,0.0],[1.0 0; 0 1.0],10^-4)\n",
    "MvGaussHermite.expected_value(f, Quad)\n",
    "@time MvGaussHermite.expected_value(f, Quad)"
   ]
  },
  {
   "cell_type": "markdown",
   "id": "4a7ad591-72c3-4c66-ace4-0f070bc41d31",
   "metadata": {},
   "source": [
    "## Updating beleif states\n"
   ]
  },
  {
   "cell_type": "code",
   "execution_count": null,
   "id": "0fae7915-9705-462f-9cba-d1e59d247a65",
   "metadata": {},
   "outputs": [],
   "source": []
  }
 ],
 "metadata": {
  "kernelspec": {
   "display_name": "Julia 1.6.2",
   "language": "julia",
   "name": "julia-1.6"
  },
  "language_info": {
   "file_extension": ".jl",
   "mimetype": "application/julia",
   "name": "julia",
   "version": "1.6.2"
  }
 },
 "nbformat": 4,
 "nbformat_minor": 5
}
