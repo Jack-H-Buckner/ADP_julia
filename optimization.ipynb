{
 "cells": [
  {
   "cell_type": "markdown",
   "id": "f8d03a5f-c74a-43da-b2fc-3e7303d29e1f",
   "metadata": {},
   "source": [
    "# Optimization\n",
    "\n",
    "Tests to determine memory allocation and performance of varaious functions, looks for bottle necks. \n",
    "\n",
    "## Quadrature\n",
    "\n",
    "### Updating quadrature scheme"
   ]
  },
  {
   "cell_type": "code",
   "execution_count": 139,
   "id": "0a432929-7ced-47c8-978d-332051fd3d05",
   "metadata": {},
   "outputs": [
    {
     "name": "stdout",
     "output_type": "stream",
     "text": [
      "  0.000226 seconds (1.76 k allocations: 157.500 KiB)\n"
     ]
    },
    {
     "name": "stderr",
     "output_type": "stream",
     "text": [
      "WARNING: replacing module MvGaussHermite.\n"
     ]
    }
   ],
   "source": [
    "## initialize quadrature\n",
    "include(\"MvGaussHermite.jl\")\n",
    "m = 5\n",
    "Quad = MvGaussHermite.init_mutable(m,[0.0,0.0],[1.0 0; 0 1.0],10^-4)\n",
    "\n",
    "# test updating \n",
    "MvGaussHermite.update_old!(Quad, [1.0,0.0],[1.0 0.5; 0.5 1.0])\n",
    "@time for i in 1:10 MvGaussHermite.update_old!(Quad, [1.0,0.0],[1.0 0.5; 0.5 1.0]) end\n"
   ]
  },
  {
   "cell_type": "code",
   "execution_count": 140,
   "id": "e07a4783-f5e4-4a4b-809e-bdbebecbc127",
   "metadata": {},
   "outputs": [
    {
     "name": "stdout",
     "output_type": "stream",
     "text": [
      "  0.000238 seconds (1.22 k allocations: 118.594 KiB)\n"
     ]
    }
   ],
   "source": [
    "Quad = MvGaussHermite.init_mutable(m,[0.0,0.0],[1.0 0; 0 1.0],10^-4)\n",
    "MvGaussHermite.update!(Quad, [1.0,0.0],[1.0 0.5; 0.5 1.0])\n",
    "@time for i in 1:10 MvGaussHermite.update!(Quad, [1.0,0.0],[1.0 0.5; 0.5 1.0])end\n"
   ]
  },
  {
   "cell_type": "markdown",
   "id": "5337c783-98d1-49bc-b5ae-af625d2259e4",
   "metadata": {},
   "source": [
    "### Evaluating quadrature"
   ]
  },
  {
   "cell_type": "code",
   "execution_count": 155,
   "id": "d28101ed-be17-4bcd-956f-e248fc0aa8e7",
   "metadata": {},
   "outputs": [
    {
     "name": "stdout",
     "output_type": "stream",
     "text": [
      "  0.000034 seconds (16 allocations: 1.938 KiB)\n"
     ]
    },
    {
     "name": "stderr",
     "output_type": "stream",
     "text": [
      "WARNING: replacing module MvGaussHermite.\n"
     ]
    },
    {
     "data": {
      "text/plain": [
       "1.6263032587282567e-18"
      ]
     },
     "execution_count": 155,
     "metadata": {},
     "output_type": "execute_result"
    }
   ],
   "source": [
    "include(\"MvGaussHermite.jl\")\n",
    "m = 10\n",
    "f  = x -> sin(x[1]*x[2])\n",
    "Quad = MvGaussHermite.init_mutable(m,[0.0,0.0],[1.0 0; 0 1.0],10^-4)\n",
    "MvGaussHermite.expected_value(f, Quad)\n",
    "@time MvGaussHermite.expected_value(f, Quad)"
   ]
  },
  {
   "cell_type": "markdown",
   "id": "4a7ad591-72c3-4c66-ace4-0f070bc41d31",
   "metadata": {},
   "source": [
    "## Updating beleif states\n"
   ]
  },
  {
   "cell_type": "code",
   "execution_count": 16,
   "id": "0fae7915-9705-462f-9cba-d1e59d247a65",
   "metadata": {},
   "outputs": [
    {
     "name": "stdout",
     "output_type": "stream",
     "text": [
      " "
     ]
    },
    {
     "name": "stderr",
     "output_type": "stream",
     "text": [
      "WARNING: replacing module MvGaussHermite.\n",
      "WARNING: replacing module BellmanOpperators.\n",
      "WARNING: replacing module Examples.\n"
     ]
    }
   ],
   "source": [
    "include(\"MvGaussHermite.jl\")\n",
    "include(\"BellmanOpperators.jl\")\n",
    "include(\"Examples.jl\")\n",
    "# set example functions for test s\n",
    "pars = Examples.unknown_growth_rate_pars\n",
    "\n",
    "T_! = (x,f) -> Examples.unknown_growth_rate_T!(x,f,pars)\n",
    "T_ = (x,f) -> Examples.unknown_growth_rate_T(x,f,pars)\n",
    "R = (x,f,obs) -> Examples.unknown_growth_rate_R(x,f,obs,pars)\n",
    "R_obs = (x,f) -> Examples.unknown_growth_rate_R_obs(x,f,pars)\n",
    "Sigma_N = Examples.Sigma_N\n",
    "H = (x,a,obs) -> Examples.H * x\n",
    "Sigma_O = (a,obs) -> reshape(Examples.Sigma_O(obs),1,1)\n",
    "delta = 0.95\n",
    "actions = Examples.unknown_growth_actions\n",
    "observations = Examples.unknown_growth_observations\n",
    "\n",
    "x_hat = [0.0,0.0]\n",
    "x_cov = [1.0 0; 0 1.0]\n",
    "\n",
    "m = 6\n",
    "f  = x -> sin(x[1]*x[2])\n",
    "Quad = MvGaussHermite.init_mutable(m,[0.0,0.0],[1.0 0; 0 1.0],10^-4)\n",
    "\n",
    "print(\" \")"
   ]
  },
  {
   "cell_type": "markdown",
   "id": "28a6d065-f796-457e-a338-3b1f58670a24",
   "metadata": {},
   "source": [
    "### Test observaiton model update\n",
    "The take away here is to use a linear observaiton model where ever possible. "
   ]
  },
  {
   "cell_type": "code",
   "execution_count": 44,
   "id": "c55b1cc7-68c2-40a1-b374-c4b5c639aedb",
   "metadata": {},
   "outputs": [
    {
     "name": "stdout",
     "output_type": "stream",
     "text": [
      "  0.000090 seconds (453 allocations: 42.781 KiB)\n",
      "  0.000040 seconds (145 allocations: 13.922 KiB)\n"
     ]
    },
    {
     "data": {
      "text/plain": [
       "2×2 Matrix{Float64}:\n",
       " 1.0  0.0\n",
       " 0.0  1.0"
      ]
     },
     "execution_count": 44,
     "metadata": {},
     "output_type": "execute_result"
    }
   ],
   "source": [
    "H = x -> Examples.H * x\n",
    "BellmanOpperators.propogate_observation_model(x_hat,x_cov,H,Quad)\n",
    "MvGaussHermite.update!(Quad, x_hat, x_cov)\n",
    "@time BellmanOpperators.propogate_observation_model(x_hat,x_cov,H,Quad)\n",
    "@time MvGaussHermite.update!(Quad, x_hat, x_cov)"
   ]
  },
  {
   "cell_type": "code",
   "execution_count": 45,
   "id": "27848a96-0e0f-4470-9734-0ce3cb8fa538",
   "metadata": {},
   "outputs": [
    {
     "name": "stdout",
     "output_type": "stream",
     "text": [
      "  0.000011 seconds (4 allocations: 320 bytes)\n"
     ]
    },
    {
     "data": {
      "text/plain": [
       "([0.0], [1.0])"
      ]
     },
     "execution_count": 45,
     "metadata": {},
     "output_type": "execute_result"
    }
   ],
   "source": [
    "H = Examples.H \n",
    "BellmanOpperators.propogate_observation_model(x_hat,x_cov,H)\n",
    "@time BellmanOpperators.propogate_observation_model(x_hat,x_cov,H)"
   ]
  },
  {
   "cell_type": "markdown",
   "id": "0885246b-92d1-44d9-a75b-e9343ab2ad56",
   "metadata": {},
   "source": [
    "### Test bellman opperator for bottle necks \n",
    " The bottle neck is very clearly evaluating the value function"
   ]
  },
  {
   "cell_type": "code",
   "execution_count": 492,
   "id": "198dcbc6-2b3c-4527-a488-fd10ded889e8",
   "metadata": {},
   "outputs": [
    {
     "name": "stdout",
     "output_type": "stream",
     "text": [
      " "
     ]
    },
    {
     "name": "stderr",
     "output_type": "stream",
     "text": [
      "WARNING: replacing module MvGaussHermite.\n",
      "WARNING: replacing module BellmanOpperators.\n",
      "WARNING: replacing module ValueFunctions.\n",
      "WARNING: replacing module Examples.\n",
      "WARNING: replacing module POMDPs.\n"
     ]
    }
   ],
   "source": [
    "include(\"MvGaussHermite.jl\")\n",
    "include(\"BellmanOpperators.jl\")\n",
    "include(\"ValueFunctions.jl\")\n",
    "include(\"Examples.jl\")\n",
    "include(\"POMDPs.jl\")\n",
    "using KalmanFilters\n",
    "# initianize POMDP object\n",
    "pars = Examples.unknown_growth_rate_pars\n",
    "T_! = (x,f) -> Examples.unknown_growth_rate_T!(x,f,pars)\n",
    "T_ = (x,f) -> Examples.unknown_growth_rate_T(x,f,pars)\n",
    "R = (x,f,obs) -> 0.5*exp(x[1]+f[1]) - 1/obs[1]\n",
    "R_obs = (x,f) -> Examples.unknown_growth_rate_R_obs(x,f,pars)\n",
    "Sigma_N = Examples.Sigma_N\n",
    "H = (x,a,obs) -> Examples.H * x\n",
    "Sigma_O = (a,obs) -> reshape(Examples.Sigma_O(obs),1,1)\n",
    "delta = 0.95\n",
    "unknownGrowthRate = POMDPs.init(T_!,T_,R,R_obs,Examples.H,Sigma_N,Sigma_O,delta, [[0.05],[0.1],[0.15]], [[0.05],[1.0]])\n",
    "\n",
    "print(\" \")"
   ]
  },
  {
   "cell_type": "code",
   "execution_count": 493,
   "id": "b8832699-e247-4c8f-b50e-d86f95d9c6ef",
   "metadata": {},
   "outputs": [
    {
     "ename": "LoadError",
     "evalue": "\u001b[91mDomainError with -4.938441702975689:\u001b[39m\n\u001b[91macos(x) not defined for |x| > 1\u001b[39m",
     "output_type": "error",
     "traceback": [
      "\u001b[91mDomainError with -4.938441702975689:\u001b[39m\n\u001b[91macos(x) not defined for |x| > 1\u001b[39m",
      "",
      "Stacktrace:",
      " [1] acos_domain_error(::Float64) at ./special/trig.jl:671",
      " [2] acos(::Float64) at ./special/trig.jl:701",
      " [3] T_alpha_i(::Tuple{Int64,Int64}, ::Array{Float64,1}) at /Users/johnbuckner/github/ADP_julia/utils.jl:63",
      " [4] #4 at /Users/johnbuckner/github/ADP_julia/ValueFunctions.jl:48 [inlined]",
      " [5] _broadcast_getindex_evalf at ./broadcast.jl:648 [inlined]",
      " [6] _broadcast_getindex at ./broadcast.jl:621 [inlined]",
      " [7] getindex at ./broadcast.jl:575 [inlined]",
      " [8] macro expansion at ./broadcast.jl:932 [inlined]",
      " [9] macro expansion at ./simdloop.jl:77 [inlined]",
      " [10] copyto! at ./broadcast.jl:931 [inlined]",
      " [11] copyto! at ./broadcast.jl:886 [inlined]",
      " [12] copy at ./broadcast.jl:862 [inlined]",
      " [13] materialize at ./broadcast.jl:837 [inlined]",
      " [14] broadcast(::Main.ValueFunctions.var\"#4#8\"{Tuple{Int64,Int64}}, ::Array{Array{Float64,1},1}) at ./broadcast.jl:775",
      " [15] #3 at /Users/johnbuckner/github/ADP_julia/ValueFunctions.jl:48 [inlined]",
      " [16] _broadcast_getindex_evalf at ./broadcast.jl:648 [inlined]",
      " [17] _broadcast_getindex at ./broadcast.jl:621 [inlined]",
      " [18] getindex at ./broadcast.jl:575 [inlined]",
      " [19] macro expansion at ./broadcast.jl:932 [inlined]",
      " [20] macro expansion at ./simdloop.jl:77 [inlined]",
      " [21] copyto! at ./broadcast.jl:931 [inlined]",
      " [22] copyto! at ./broadcast.jl:886 [inlined]",
      " [23] copy(::Base.Broadcast.Broadcasted{Base.Broadcast.DefaultArrayStyle{1},Tuple{Base.OneTo{Int64}},Main.ValueFunctions.var\"#3#7\"{Array{Array{Float64,1},1}},Tuple{Array{Tuple{Int64,Int64},1}}}) at ./broadcast.jl:862",
      " [24] materialize(::Base.Broadcast.Broadcasted{Base.Broadcast.DefaultArrayStyle{1},Nothing,Main.ValueFunctions.var\"#3#7\"{Array{Array{Float64,1},1}},Tuple{Array{Tuple{Int64,Int64},1}}}) at ./broadcast.jl:837",
      " [25] broadcast(::Main.ValueFunctions.var\"#3#7\"{Array{Array{Float64,1},1}}, ::Array{Tuple{Int64,Int64},1}) at ./broadcast.jl:775",
      " [26] init_interpolation(::Array{Float64,1}, ::Array{Float64,1}, ::Int64) at /Users/johnbuckner/github/ADP_julia/ValueFunctions.jl:48",
      " [27] init_adjGausianBeleifsInterp(::Int64, ::Int64, ::Array{Float64,1}, ::Array{Float64,1}) at /Users/johnbuckner/github/ADP_julia/ValueFunctions.jl:300",
      " [28] top-level scope at In[493]:19",
      " [29] include_string(::Function, ::Module, ::String, ::String) at ./loading.jl:1091"
     ]
    }
   ],
   "source": [
    "\n",
    "# state \n",
    "act = [0.15]\n",
    "obs = [1.0]\n",
    "\n",
    "# value function \n",
    "function test1!(mu)\n",
    "    return 0.1*mu[2] * mu[1]^2\n",
    "end \n",
    "\n",
    "\n",
    "function test2!(mu, cov)\n",
    "    v = test1!(mu)\n",
    "    return v - 0.1*cov[1,1] -0.1*cov[2,2] + 0.05*cov[2,1] +0.75*cov[1,1]*mu[1]\n",
    "end \n",
    "\n",
    "m1 = 10\n",
    "m2 = 7\n",
    "Vf = ValueFunctions.init_adjGausianBeleifsInterp(m1, m2, [-5.0,-5.0],[5.0,5.0])\n",
    "\n",
    "v1 = 1.0*zeros(m1^2)\n",
    "v2 = 1.0*zeros(m2^5)\n",
    "v_mu = broadcast(i->test1!(Vf.baseValue.grid[i]), 1:m1^2)\n",
    "v_dsn = broadcast(i->test2!(Vf.uncertantyAdjustment.nodes[i][1],Vf.uncertantyAdjustment.nodes[i][2]), 1:m2^5)\n",
    "\n",
    "ValueFunctions.update_base!(Vf,v_mu)\n",
    "ValueFunctions.update_adjustment!(Vf, v_dsn)\n",
    "\n",
    "\n",
    "x_hat = [0.4, 0.0]\n",
    "x_cov = [0.2 0.0; 0.0 0.1]\n",
    "s = (x_hat,x_cov)\n",
    "\n",
    "\n",
    "data = BellmanOpperators.init_bellmanIntermidiate(2, 1, 4,4)\n",
    "print(\" \")"
   ]
  },
  {
   "cell_type": "code",
   "execution_count": 494,
   "id": "87d1bdb5-7735-42c1-8c7a-2eae513ad90e",
   "metadata": {},
   "outputs": [
    {
     "data": {
      "text/plain": [
       "compute_coefs (generic function with 8 methods)"
      ]
     },
     "execution_count": 494,
     "metadata": {},
     "output_type": "execute_result"
    }
   ],
   "source": [
    "\n",
    "function compute_coefs(d,m,values,alpha,T_alpha_i_grid)\n",
    "    # get size of \n",
    "    #@assert length(values) == m^d\n",
    "    #@assert all(size(values) .== m)\n",
    "    # get constants for each term\n",
    "    d_bar = broadcast(alpha_i -> sum(alpha_i .> 0), alpha)\n",
    "    c = 2 .^ d_bar ./(m^d)\n",
    "    # compute sum for each term\n",
    "    #z = collect_z(m,d) \n",
    "    # this is complicated. it initally broadcasts T_alpha_i over the grid z and takes the dot \n",
    "    # product with values array. It then broad casts this function over each set of valeus in alpha\n",
    "    #vT_sums = broadcast(alpha_i -> sum(broadcast(x -> T_alpha_i(alpha_i,x), z).*values), alpha)   \n",
    "    \n",
    "    vT_sums = broadcast(alpha_i -> sum(T_alpha_i_grid.*values), alpha)  \n",
    "    return c.*vT_sums\n",
    "end"
   ]
  },
  {
   "cell_type": "code",
   "execution_count": 495,
   "id": "ff167090-9ab4-44b7-9974-d1565504c745",
   "metadata": {},
   "outputs": [
    {
     "data": {
      "text/plain": [
       "25-element Array{Array{Float64,1},1}:\n",
       " [-0.9510565162951535, -0.9510565162951535]\n",
       " [-0.5877852522924731, -0.9510565162951535]\n",
       " [-6.123233995736766e-17, -0.9510565162951535]\n",
       " [0.587785252292473, -0.9510565162951535]\n",
       " [0.9510565162951535, -0.9510565162951535]\n",
       " [-0.9510565162951535, -0.5877852522924731]\n",
       " [-0.5877852522924731, -0.5877852522924731]\n",
       " [-6.123233995736766e-17, -0.5877852522924731]\n",
       " [0.587785252292473, -0.5877852522924731]\n",
       " [0.9510565162951535, -0.5877852522924731]\n",
       " [-0.9510565162951535, -6.123233995736766e-17]\n",
       " [-0.5877852522924731, -6.123233995736766e-17]\n",
       " [-6.123233995736766e-17, -6.123233995736766e-17]\n",
       " [0.587785252292473, -6.123233995736766e-17]\n",
       " [0.9510565162951535, -6.123233995736766e-17]\n",
       " [-0.9510565162951535, 0.587785252292473]\n",
       " [-0.5877852522924731, 0.587785252292473]\n",
       " [-6.123233995736766e-17, 0.587785252292473]\n",
       " [0.587785252292473, 0.587785252292473]\n",
       " [0.9510565162951535, 0.587785252292473]\n",
       " [-0.9510565162951535, 0.9510565162951535]\n",
       " [-0.5877852522924731, 0.9510565162951535]\n",
       " [-6.123233995736766e-17, 0.9510565162951535]\n",
       " [0.587785252292473, 0.9510565162951535]\n",
       " [0.9510565162951535, 0.9510565162951535]"
      ]
     },
     "execution_count": 495,
     "metadata": {},
     "output_type": "execute_result"
    }
   ],
   "source": [
    "utils.collect_z(5,2)"
   ]
  },
  {
   "cell_type": "code",
   "execution_count": 496,
   "id": "7e1ac118-f4ad-4fd0-956d-05a862d6c658",
   "metadata": {},
   "outputs": [
    {
     "name": "stdout",
     "output_type": "stream",
     "text": [
      "  0.000273 seconds (526 allocations: 41.875 KiB)\n",
      "  0.000162 seconds (162 allocations: 12.203 KiB)\n"
     ]
    },
    {
     "data": {
      "text/plain": [
       "0"
      ]
     },
     "execution_count": 496,
     "metadata": {},
     "output_type": "execute_result"
    }
   ],
   "source": [
    "function f1(s, a, obs, data, POMDP, V)\n",
    "    data.x_hat, data.x_cov = s\n",
    "    tu = KalmanFilters.time_update(data.x_hat, data.x_cov, x ->POMDP.T(x,a),  POMDP.Sigma_N)\n",
    "    data.x_hat, data.x_cov = KalmanFilters.get_state(tu), KalmanFilters.get_covariance(tu)\n",
    "    \n",
    "    #observaton quadrature nodes \n",
    "   #H = x -> POMDP.H(x,a,obs) # define measurment function # allocation? \n",
    "    data.y_hat, data.y_cov = BellmanOpperators.propogate_observation_model(data.x_hat,data.x_cov,POMDP.H) # allocation \n",
    "    data.y_cov .+= POMDP.Sigma_O(a,obs)\n",
    "    MvGaussHermite.update!(data.Quad_y,data.y_hat,data.y_cov)\n",
    "    data.new_states_mat = broadcast(y -> BellmanOpperators.new_state(y, data.x_hat,data.x_cov, POMDP.H, POMDP.Sigma_O(a,obs)), data.Quad_y.nodes)\n",
    "    return 0\n",
    "end \n",
    "\n",
    "function f1_(s, a, obs, data, POMDP, V)\n",
    "    data.x_hat, data.x_cov = s\n",
    "    tu = KalmanFilters.time_update(data.x_hat, data.x_cov, x ->POMDP.T(x,a),  POMDP.Sigma_N)\n",
    "    data.x_hat, data.x_cov = KalmanFilters.get_state(tu), KalmanFilters.get_covariance(tu)\n",
    "    \n",
    "    #observaton quadrature nodes \n",
    "    H = x -> POMDP.H*x # define measurment function # allocation? \n",
    "    data.y_hat, data.y_cov = BellmanOpperators.propogate_observation_model(data.x_hat,data.x_cov,H, data.Quad_x) # allocation \n",
    "    data.y_cov .+= POMDP.Sigma_O(a,obs)\n",
    "    MvGaussHermite.update!(data.Quad_y,data.y_hat,data.y_cov)\n",
    "    data.new_states_mat = broadcast(y -> BellmanOpperators.new_state(y, data.x_hat,data.x_cov, H, POMDP.Sigma_O(a,obs)), data.Quad_y.nodes)\n",
    "    return 0\n",
    "end \n",
    "\n",
    "\n",
    "f1_(s,act,obs, data, unknownGrowthRate, V)\n",
    "@time f1_(s,act,obs, data, unknownGrowthRate, V)\n",
    "\n",
    "f1(s,act,obs, data, unknownGrowthRate, V)\n",
    "@time f1(s,act,obs, data, unknownGrowthRate, V)"
   ]
  },
  {
   "cell_type": "code",
   "execution_count": 497,
   "id": "2c0d8f01-a687-45c9-8ad8-7b93806de124",
   "metadata": {},
   "outputs": [
    {
     "name": "stdout",
     "output_type": "stream",
     "text": [
      "  0.000854 seconds (391 allocations: 49.422 KiB)\n"
     ]
    },
    {
     "data": {
      "text/plain": [
       "-0.03876410703907643"
      ]
     },
     "execution_count": 497,
     "metadata": {},
     "output_type": "execute_result"
    }
   ],
   "source": [
    "function f2(s, a, obs, data, POMDP, V)\n",
    "    data.x_hat, data.x_cov = s\n",
    "    tu = KalmanFilters.time_update(data.x_hat, data.x_cov, x ->POMDP.T(x,a),  POMDP.Sigma_N)\n",
    "    data.x_hat, data.x_cov = KalmanFilters.get_state(tu), KalmanFilters.get_covariance(tu)\n",
    "    \n",
    "    #observaton quadrature nodes \n",
    "    #H = Examples.H # define measurment function # allocation? \n",
    "    data.y_hat, data.y_cov = BellmanOpperators.propogate_observation_model(data.x_hat,data.x_cov,POMDP.H) # allocation \n",
    "    data.y_cov .+= POMDP.Sigma_O(a,obs)\n",
    "    MvGaussHermite.update!(data.Quad_y,data.y_hat,data.y_cov)\n",
    "    data.new_states_mat = broadcast(y -> BellmanOpperators.new_state(y, data.x_hat,data.x_cov, POMDP.H, POMDP.Sigma_O(a,obs)), data.Quad_y.nodes)\n",
    "    \n",
    "    data.vals = broadcast(x -> V(data.z,x), data.new_states_mat)\n",
    "    \n",
    "    return sum(data.vals .* data.Quad_y.weights)\n",
    "end \n",
    "\n",
    "f2(s,act,obs, data, unknownGrowthRate, Vf)\n",
    "@time f2(s,act,obs, data, unknownGrowthRate, Vf)"
   ]
  },
  {
   "cell_type": "markdown",
   "id": "ed3230ad-4b84-4ad6-b15f-0819120e4a2a",
   "metadata": {},
   "source": [
    "\n",
    "### Test Value functions"
   ]
  },
  {
   "cell_type": "code",
   "execution_count": 240,
   "id": "9cac0e09-e177-4ad2-9fc1-9c617e794f97",
   "metadata": {},
   "outputs": [
    {
     "data": {
      "text/plain": [
       "true"
      ]
     },
     "execution_count": 240,
     "metadata": {},
     "output_type": "execute_result"
    }
   ],
   "source": [
    "all(size(zeros(10)) .== 10)"
   ]
  },
  {
   "cell_type": "code",
   "execution_count": 68,
   "id": "b28bcaf5-7164-47bd-a36d-bf8899ae6e7e",
   "metadata": {},
   "outputs": [
    {
     "name": "stderr",
     "output_type": "stream",
     "text": [
      "WARNING: replacing module ValueFunctions.\n"
     ]
    },
    {
     "data": {
      "text/plain": [
       "Main.ValueFunctions"
      ]
     },
     "execution_count": 68,
     "metadata": {},
     "output_type": "execute_result"
    }
   ],
   "source": [
    "include(\"ValueFunctions.jl\")"
   ]
  },
  {
   "cell_type": "code",
   "execution_count": 306,
   "id": "6fb5adc8-ce75-4628-9810-7afdc826e31b",
   "metadata": {},
   "outputs": [
    {
     "name": "stdout",
     "output_type": "stream",
     "text": [
      "  0.000053 seconds (25 allocations: 1.750 KiB)\n"
     ]
    },
    {
     "name": "stderr",
     "output_type": "stream",
     "text": [
      "WARNING: replacing module ValueFunctions.\n"
     ]
    },
    {
     "name": "stdout",
     "output_type": "stream",
     "text": [
      "  0.000109 seconds (27 allocations: 4.797 KiB)\n"
     ]
    },
    {
     "data": {
      "text/plain": [
       "-0.19976206848347985"
      ]
     },
     "execution_count": 306,
     "metadata": {},
     "output_type": "execute_result"
    }
   ],
   "source": [
    "# value function \n",
    "include(\"ValueFunctions.jl\")\n",
    "function test1!(mu)\n",
    "    return 0.1*mu[2] * mu[1]^2\n",
    "end \n",
    "\n",
    "\n",
    "function test2!(mu, cov)\n",
    "    v = test1!(mu)\n",
    "    return v - 0.1*cov[1,1] -0.1*cov[2,2] + 0.05*cov[2,1] +0.75*cov[1,1]*mu[1]\n",
    "end \n",
    "\n",
    "m1 = 10\n",
    "m2 = 6\n",
    "Vf = ValueFunctions.init_adjGausianBeleifsInterp(m1, m2, [-5.0,-5.0],[5.0,5.0])\n",
    "\n",
    "v1 = 1.0*zeros(m1^2)\n",
    "v2 = 1.0*zeros(m2^5)\n",
    "v_mu = broadcast(i->test1!(Vf.baseValue.grid[i]), 1:m1^2)\n",
    "v_dsn = broadcast(i->test2!(Vf.uncertantyAdjustment.nodes[i][1],Vf.uncertantyAdjustment.nodes[i][2]), 1:m2^5)\n",
    "\n",
    "ValueFunctions.update_base!(Vf,v_mu)\n",
    "\n",
    "ValueFunctions.update_adjustment!(Vf, v_dsn)\n",
    "\n",
    "z = 1.0*zeros(5)\n",
    "x = ([0.0,0.0],[1.0 0; 0 1.0])\n",
    "Vf.baseValue(x[1])\n",
    "@time Vf.baseValue(x[1])\n",
    "\n",
    "Vf.uncertantyAdjustment(z,x)\n",
    "@time Vf.uncertantyAdjustment(z,x)"
   ]
  },
  {
   "cell_type": "markdown",
   "id": "541c8319-eb68-4017-96d4-dd326ba3c725",
   "metadata": {},
   "source": [
    "### Evaluating the uncertiaty adjustment in the value function is the primary bottle neck in the bellman opperator\n",
    "\n",
    "Two steps to optimize this process: \n",
    "1. Optimize evaluation of chebyshev polynomials in ValueFunctions.jl\n",
    "2. Down sample the value function i.e use a low order aproximation if it apears to be apropreate.   "
   ]
  },
  {
   "cell_type": "code",
   "execution_count": 489,
   "id": "7b6322e9-fa59-4637-870b-291c98073531",
   "metadata": {},
   "outputs": [
    {
     "name": "stdout",
     "output_type": "stream",
     "text": [
      "  0.000282 seconds (26 allocations: 41.469 KiB)\n"
     ]
    },
    {
     "name": "stderr",
     "output_type": "stream",
     "text": [
      "WARNING: replacing module ValueFunctions.\n"
     ]
    },
    {
     "data": {
      "text/plain": [
       "3.393707262110219e-16"
      ]
     },
     "execution_count": 489,
     "metadata": {},
     "output_type": "execute_result"
    }
   ],
   "source": [
    "include(\"ValueFunctions.jl\")\n",
    "a = [-1.0,-1.]\n",
    "b = [1.0,1.]\n",
    "m = 100\n",
    "p = ValueFunctions.init_interpolation(a,b,m)\n",
    "x = [0.0,0.0]\n",
    "# value function \n",
    "function test1!(mu)\n",
    "    return 0.1*mu[2] * mu[1]^2\n",
    "end \n",
    "\n",
    "v_mu = broadcast(i->test1!(p.grid[i]), 1:length(p.grid))\n",
    "\n",
    "ValueFunctions.update_interpolation!(p,v_mu)\n",
    "        \n",
    "p(x)\n",
    "@time p(x)\n"
   ]
  },
  {
   "cell_type": "code",
   "execution_count": 491,
   "id": "58113666-02d3-4745-8d24-e2a8e26178e6",
   "metadata": {},
   "outputs": [
    {
     "name": "stdout",
     "output_type": "stream",
     "text": [
      "  0.393086 seconds (30.40 k allocations: 393.965 MiB, 31.02% gc time)\n"
     ]
    },
    {
     "data": {
      "text/plain": [
       "5151-element Array{Float64,1}:\n",
       "  0.0\n",
       "  0.0\n",
       "  0.0\n",
       " -6.66133814775094e-20\n",
       " -2.0816681711721686e-20\n",
       "  1.0200174038743627e-19\n",
       " -4.163336342344337e-20\n",
       "  1.3877787807814457e-20\n",
       "  3.5735303605122227e-20\n",
       "  6.522560269672795e-20\n",
       "  5.967448757360216e-20\n",
       " -2.2898349882893854e-20\n",
       " -2.5500435096859066e-20\n",
       "  ⋮\n",
       "  5.551115123125783e-20\n",
       " -1.0547118733938987e-19\n",
       " -1.2168044349891716e-17\n",
       " -1.5543122344752191e-19\n",
       " -1.1501910535116623e-17\n",
       "  2.2204460492503132e-20\n",
       "  3.383515689847627e-16\n",
       " -2.220446049250313e-19\n",
       "  3.383071600637777e-16\n",
       " -5.639932965095796e-18\n",
       "  0.0\n",
       "  3.273128842356993e-16"
      ]
     },
     "execution_count": 491,
     "metadata": {},
     "output_type": "execute_result"
    }
   ],
   "source": [
    "@time ValueFunctions.update_interpolation!(p,v_mu)\n"
   ]
  },
  {
   "cell_type": "code",
   "execution_count": null,
   "id": "d7afabd3-cd3e-426c-8cbf-42aa40755d21",
   "metadata": {},
   "outputs": [],
   "source": [
    "compute_coefs(d,m,values,alpha,T_alpha_i_grid)"
   ]
  },
  {
   "cell_type": "code",
   "execution_count": 351,
   "id": "e7602b23-e1f0-48d1-8f1a-35e6deb6826c",
   "metadata": {},
   "outputs": [
    {
     "name": "stdout",
     "output_type": "stream",
     "text": [
      "  0.000011 seconds (2 allocations: 48 bytes)\n"
     ]
    },
    {
     "name": "stderr",
     "output_type": "stream",
     "text": [
      "WARNING: replacing module utils.\n"
     ]
    },
    {
     "data": {
      "text/plain": [
       "5.51091059616309e-16"
      ]
     },
     "execution_count": 351,
     "metadata": {},
     "output_type": "execute_result"
    }
   ],
   "source": [
    "include(\"utils.jl\")\n",
    "utils.T_alpha_i(p.alpha[1],x)\n",
    "@time utils.T_alpha_i(p.alpha[10],x)"
   ]
  },
  {
   "cell_type": "code",
   "execution_count": 365,
   "id": "68525544-2a32-46ef-a933-2303f63f55bd",
   "metadata": {},
   "outputs": [
    {
     "name": "stdout",
     "output_type": "stream",
     "text": [
      "  0.000233 seconds (5 allocations: 80.672 KiB)\n"
     ]
    },
    {
     "name": "stderr",
     "output_type": "stream",
     "text": [
      "WARNING: replacing module utils.\n"
     ]
    },
    {
     "data": {
      "text/plain": [
       "3.228315458645783e-16"
      ]
     },
     "execution_count": 365,
     "metadata": {},
     "output_type": "execute_result"
    }
   ],
   "source": [
    "include(\"utils.jl\")\n",
    "v = zeros(length(p.alpha))\n",
    "utils.T_alpha!(v,x,p.alpha, p.coeficents)\n",
    "@time utils.T_alpha!(v,x,p.alpha, p.coeficents)"
   ]
  },
  {
   "cell_type": "code",
   "execution_count": null,
   "id": "f7a8f2e5-c0a1-4c02-aa85-d6863f8a6a97",
   "metadata": {},
   "outputs": [],
   "source": [
    "0.000285 seconds (3 allocations: 40.344 KiB)\n",
    "0.000274 seconds (3 allocations: 40.344 KiB)\n",
    "0.000314 seconds (3 allocations: 40.344 KiB)"
   ]
  },
  {
   "cell_type": "code",
   "execution_count": null,
   "id": "01b2fbbf-27e7-4123-8e3e-420526b7dc60",
   "metadata": {},
   "outputs": [],
   "source": [
    "\n",
    "a = [0.0,0.0]\n",
    "b = [1.0,1.0]\n",
    "m = 5\n",
    "d = length(a)\n",
    "# calcualte nodes\n",
    "f = n -> -cos((2*n-1)*pi/(2*m))\n",
    "z = f.(1:m)\n",
    "\n",
    "\n",
    "nodes = (z.+1)./2 .*transpose(b.-a) #.- a\n",
    "nodes = mapslices(x-> x .+ a, nodes, dims = 2)\n",
    "\n",
    "z = (z.+1)./2 .*transpose(repeat([2.0],d))\n",
    "z = mapslices(x-> x .-  1.0, z, dims = 2)\n",
    "grid = utils.collect_nodes(nodes) # nodes on desiered domain\n",
    "grid_mapped = utils.collect_nodes(z) # nodes mapped to -1,1\n"
   ]
  },
  {
   "cell_type": "code",
   "execution_count": 504,
   "id": "a8518871-c50b-4da2-afe7-48d63e3269e7",
   "metadata": {},
   "outputs": [
    {
     "data": {
      "text/plain": [
       "5×5 Array{Float64,2}:\n",
       " 0.0489435  0.0489435  0.0489435  0.0489435  0.0489435\n",
       " 0.412215   0.412215   0.412215   0.412215   0.412215\n",
       " 1.0        1.0        1.0        1.0        1.0\n",
       " 1.58779    1.58779    1.58779    1.58779    1.58779\n",
       " 1.95106    1.95106    1.95106    1.95106    1.95106"
      ]
     },
     "execution_count": 504,
     "metadata": {},
     "output_type": "execute_result"
    }
   ],
   "source": [
    "z"
   ]
  },
  {
   "cell_type": "code",
   "execution_count": 517,
   "id": "bbb01400-adec-4df6-af83-b6159f0da562",
   "metadata": {},
   "outputs": [
    {
     "name": "stderr",
     "output_type": "stream",
     "text": [
      "┌ Info: Installing Julia 6 Threads kernelspec in /Users/johnbuckner/Library/Jupyter/kernels/julia-6-threads-1.5\n",
      "└ @ IJulia /Users/johnbuckner/.julia/packages/IJulia/e8kqU/deps/kspec.jl:94\n"
     ]
    },
    {
     "data": {
      "text/plain": [
       "\"/Users/johnbuckner/Library/Jupyter/kernels/julia-6-threads-1.5\""
      ]
     },
     "execution_count": 517,
     "metadata": {},
     "output_type": "execute_result"
    }
   ],
   "source": [
    "using IJulia\n",
    "IJulia.installkernel(\"Julia 6 Threads\", env=Dict(\n",
    "    \"JULIA_NUM_THREADS\" => \"6\",\n",
    "))"
   ]
  },
  {
   "cell_type": "code",
   "execution_count": 3,
   "id": "0dca3ebb-9112-4120-b07d-fa92d6966440",
   "metadata": {},
   "outputs": [
    {
     "data": {
      "text/plain": [
       "10-element Array{Float64,1}:\n",
       " 1.0\n",
       " 1.0\n",
       " 2.0\n",
       " 2.0\n",
       " 3.0\n",
       " 3.0\n",
       " 4.0\n",
       " 4.0\n",
       " 5.0\n",
       " 6.0"
      ]
     },
     "execution_count": 3,
     "metadata": {},
     "output_type": "execute_result"
    }
   ],
   "source": [
    "#mport Pkg; Pkg.add(\"Threads\")\n",
    "#using Threads\n",
    "a = zeros(10)\n",
    "Threads.@threads for i = 1:10\n",
    "    a[i] = Threads.threadid()\n",
    "end\n"
   ]
  },
  {
   "cell_type": "code",
   "execution_count": null,
   "id": "a2b1adea-6abc-4e8c-a6b6-647564d756d4",
   "metadata": {},
   "outputs": [
    {
     "name": "stdout",
     "output_type": "stream",
     "text": [
      "here0 100.1 "
     ]
    },
    {
     "name": "stderr",
     "output_type": "stream",
     "text": [
      "WARNING: replacing module Examples.\n",
      "WARNING: replacing module ValueFunctions.\n",
      "WARNING: replacing module BeleifMDPSolvers.\n",
      "WARNING: replacing module BeleifMDPSolvers.\n"
     ]
    },
    {
     "name": "stdout",
     "output_type": "stream",
     "text": [
      "1 73.94595673849162 2 145.86323400899144 3 134.826550872899 4 122.68001713815526 5 155.0330507659942 6 103.09087785261819 7 77.47184370878428 8 99.34651694583995 9 111.2605149994456 10 106.98961980680531 11 103.24132411078077 12 76.17616860246942 13 94.13383220228408 14 106.10820997138146 15 85.60529459025928 16 88.99585477857063 17 71.62356113648808 18 92.29446054372987 19 88.27262702763802 20 96.72169642916077 21 84.21107185909932 22 71.04588016226859 23 59.72446269839281 24 78.90114612302565 25 273.1466333445811 26 85.80915531705666 27 62.29999756754463 28 98.21815991196618 29 78.1042248250199 30 58.61762872772308 31 75.28546609897438 32 62.332081510087434 33 61.65946739264951 34 69.17185885501375 35 74.20927438194617 36 71.53533184927345 37 105.18240209573283 38 74.52692224632308 39 70.78270324038296 40 59.81566514795491 41 70.22997980763934 42 65.9208600046799 43 58.12166036212629 44 54.02600864700974 45 69.20110702136473 46 106.86100369676628 47 111.95249214817271 48 71.07553155466661 49 82.45877546442311 50 79.10488845797984 51 72.41613650941667 52 64.89448127773255 53 77.73211451053972 54 92.63309214528833 55 62.0631335801651 56 82.2033363523351 57 64.91293676458272 58 87.10711923443732 59 82.53148594122253 60 83.52947596478853 61 76.37684338643587 62 76.47679506447754 63 92.68900181260982 64 69.86872427014472 65 75.03244279934424 66 81.88899839051331 67 80.65157028900052 68 81.00940171571317 69 59.36709186137545 70 105.82345005099778 71 79.83872981824828 72 74.85948163288826 73 87.82784549805717 74 73.46930101587995 75 61.31623571199201 76 78.16528981653794 77 76.09660270484696 78 60.17028916936196 79 77.66958219355706 80 83.42715788063347 81 84.37130138856692 82 82.81618823577698 83 63.318369240825255 84 69.11660639306275 85 67.01981493210867 86 94.40481814644387 87 92.88117087343213 88 74.06505138033266 89 55.1850229095026 90 67.17460414083538 91 85.30618385833337 92 69.62592693808634 93 76.85798487735029 94 95.04299989272236 95 71.3139909682051 96 75.57112174163741 97 75.70517314947175 98 65.97782427609762 99 78.21553648113937 100 76.8415017687015 101 93.96126242196556 102 72.56600853732186 103 74.75364246848234 104 72.22994839721821 105 76.84106175613135 106 67.91587391498174 107 72.52580175184436 108 53.855481361600795 109 307.09279443093413 110 121.5521046247433 111 80.81326867676916 112 61.31557355572446 113 95.93354831398406 114 77.75560440896388 115 92.53555962447578 116 84.80855154535307 117 65.1190055294516 118 52.36605668476971 119 48.472348015580295 120 63.047839859133944 121 74.8228478935114 122 84.48245508287764 123 64.60583699445763 124 66.77193228974285 125 83.53684634354829 126 60.752730616938 127 79.80445750663783 128 89.02646775813726 129 84.91849375730905 130 69.69919961331156 131 62.732918056823024 132 73.54699995603708 133 74.2280605656568 134 54.652974974147696 "
     ]
    }
   ],
   "source": [
    "# Initialize model \n",
    "include(\"Examples.jl\")\n",
    "include(\"ValueFunctions.jl\")\n",
    "include(\"BeleifMDPSolvers.jl\")\n",
    "\n",
    "\n",
    "pars = Examples.unknown_growth_rate_pars\n",
    "\n",
    "T_! = (x,f) -> Examples.unknown_growth_rate_T!(x,f,pars)\n",
    "T_ = (x,f) -> Examples.unknown_growth_rate_T(x,f,pars)\n",
    "R = (x,f,obs) -> Examples.unknown_growth_rate_R(x,f,obs,pars)\n",
    "R_obs = (x,f) -> Examples.unknown_growth_rate_R_obs(x,f,pars)\n",
    "Sigma_N = Examples.Sigma_N\n",
    "H = (x,a,obs) -> Examples.H * x\n",
    "Sigma_O = (a,obs) -> reshape(Examples.Sigma_O(obs),1,1)\n",
    "delta = 0.925\n",
    "actions = Examples.unknown_growth_actions\n",
    "observations = Examples.unknown_growth_observations\n",
    "\n",
    "upper = Examples.unknown_growth_upper\n",
    "lower = Examples.unknown_growth_lower\n",
    "\n",
    "solver = BeleifMDPSolvers.init(T_!, T_, R, R_obs, H, Sigma_N, Sigma_O,delta,actions,observations,lower,upper)\n",
    "\n",
    "\n",
    "include(\"BeleifMDPSolvers.jl\")\n",
    "BeleifMDPSolvers.solve_observed(solver)\n",
    "BeleifMDPSolvers.solve(solver)"
   ]
  },
  {
   "cell_type": "code",
   "execution_count": null,
   "id": "a80663c7-de3e-4bef-95c0-e62b0a98fb32",
   "metadata": {},
   "outputs": [],
   "source": []
  }
 ],
 "metadata": {
  "kernelspec": {
   "display_name": "Julia 6 Threads 1.5.3",
   "language": "julia",
   "name": "julia-6-threads-1.5"
  },
  "language_info": {
   "file_extension": ".jl",
   "mimetype": "application/julia",
   "name": "julia",
   "version": "1.5.3"
  }
 },
 "nbformat": 4,
 "nbformat_minor": 5
}
