{
 "cells": [
  {
   "cell_type": "markdown",
   "id": "4390a432-864c-48ce-b746-db5503d97371",
   "metadata": {},
   "source": [
    "# Julia ADP\n",
    "\n",
    "The goal of this project is to develop a tool kit for solving markov decision process using aproximate dynamic programming with the julia programming language. \n",
    "\n",
    "The project is heavily biased towards methods for solving continuous state Partailly Obserable Markov Decision Processes (POMDP). A continuous state POMDP is solved as a beleif state markov decision process where partially observed state variables are replaced with probability distributions that describe the informaiton avaialbe to the decision maker about these quantities. \n",
    "\n",
    "The dynamcis of the beleif states are described using a Partially Observable Markov Process or State-Space model. \n",
    "\n",
    "A POMDP model can be defined as the combination of a process model that describes the state transition of system conditional on the decision makers actions, an observaiton model that describes the probabiltiy of the decision maker making and observation conditinal on their actions and the true state of the system, and an objective function which is represetned by a single period reward $R(x_t,a_t)$ and a discout factor $\\delta \\in [0,1)$.\n",
    "\n",
    "The goal of this tool kit wil be to develop methods so that a use can specify these three model components and solve the problem using aproximate dynamis programming techniques with out needing to write thier own code to define the beleif state dynamics (POMP process) or to solve the dynamic program. \n",
    "\n",
    "\n"
   ]
  },
  {
   "cell_type": "code",
   "execution_count": null,
   "id": "875c00ce-4627-4cc6-ac29-a139820f92f6",
   "metadata": {},
   "outputs": [],
   "source": []
  }
 ],
 "metadata": {
  "kernelspec": {
   "display_name": "JuliaPro_v1.5.4-1 1.5.4",
   "language": "julia",
   "name": "juliapro_v1.5.4-1-1.5"
  },
  "language_info": {
   "file_extension": ".jl",
   "mimetype": "application/julia",
   "name": "julia",
   "version": "1.5.4"
  }
 },
 "nbformat": 4,
 "nbformat_minor": 5
}
